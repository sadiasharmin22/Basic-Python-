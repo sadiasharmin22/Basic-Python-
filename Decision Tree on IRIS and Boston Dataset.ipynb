{
 "cells": [
  {
   "cell_type": "code",
   "execution_count": 1,
   "metadata": {},
   "outputs": [
    {
     "name": "stdout",
     "output_type": "stream",
     "text": [
      "      ID  sepal_length  sepal_width  petal_length  petal_width    species\n",
      "0      1           5.1          3.5           1.4          0.2     setosa\n",
      "1      2           4.9          3.0           1.4          0.2     setosa\n",
      "2      3           4.7          3.2           1.3          0.2     setosa\n",
      "3      4           4.6          3.1           1.5          0.2     setosa\n",
      "4      5           5.0          3.6           1.4          0.2     setosa\n",
      "..   ...           ...          ...           ...          ...        ...\n",
      "145  146           6.7          3.0           5.2          2.3  virginica\n",
      "146  147           6.3          2.5           5.0          1.9  virginica\n",
      "147  148           6.5          3.0           5.2          2.0  virginica\n",
      "148  149           6.2          3.4           5.4          2.3  virginica\n",
      "149  150           5.9          3.0           5.1          1.8  virginica\n",
      "\n",
      "[150 rows x 6 columns]\n"
     ]
    }
   ],
   "source": [
    "import pandas\n",
    "from sklearn import tree\n",
    "import pydotplus\n",
    "from sklearn.tree import DecisionTreeClassifier\n",
    "import matplotlib.pyplot as plt\n",
    "import matplotlib.image as pltimg\n",
    "\n",
    "df = pandas.read_csv(\"iris.csv\")\n",
    "\n",
    "print(df)"
   ]
  },
  {
   "cell_type": "code",
   "execution_count": null,
   "metadata": {},
   "outputs": [],
   "source": []
  },
  {
   "cell_type": "code",
   "execution_count": 5,
   "metadata": {},
   "outputs": [
    {
     "name": "stdout",
     "output_type": "stream",
     "text": [
      "      ID  sepal_length  sepal_width  petal_length  petal_width  species\n",
      "0      1           5.1          3.5           1.4          0.2        1\n",
      "1      2           4.9          3.0           1.4          0.2        1\n",
      "2      3           4.7          3.2           1.3          0.2        1\n",
      "3      4           4.6          3.1           1.5          0.2        1\n",
      "4      5           5.0          3.6           1.4          0.2        1\n",
      "..   ...           ...          ...           ...          ...      ...\n",
      "145  146           6.7          3.0           5.2          2.3        3\n",
      "146  147           6.3          2.5           5.0          1.9        3\n",
      "147  148           6.5          3.0           5.2          2.0        3\n",
      "148  149           6.2          3.4           5.4          2.3        3\n",
      "149  150           5.9          3.0           5.1          1.8        3\n",
      "\n",
      "[150 rows x 6 columns]\n"
     ]
    }
   ],
   "source": [
    "d = {'setosa': 1, 'versicolor': 2, 'virginica': 3}\n",
    "df['species'] = df['species'].map(d)\n",
    "\n",
    "print(df)"
   ]
  },
  {
   "cell_type": "code",
   "execution_count": 6,
   "metadata": {},
   "outputs": [
    {
     "name": "stdout",
     "output_type": "stream",
     "text": [
      "     sepal_length  sepal_width  petal_length  petal_width\n",
      "0             5.1          3.5           1.4          0.2\n",
      "1             4.9          3.0           1.4          0.2\n",
      "2             4.7          3.2           1.3          0.2\n",
      "3             4.6          3.1           1.5          0.2\n",
      "4             5.0          3.6           1.4          0.2\n",
      "..            ...          ...           ...          ...\n",
      "145           6.7          3.0           5.2          2.3\n",
      "146           6.3          2.5           5.0          1.9\n",
      "147           6.5          3.0           5.2          2.0\n",
      "148           6.2          3.4           5.4          2.3\n",
      "149           5.9          3.0           5.1          1.8\n",
      "\n",
      "[150 rows x 4 columns]\n",
      "0      1\n",
      "1      1\n",
      "2      1\n",
      "3      1\n",
      "4      1\n",
      "      ..\n",
      "145    3\n",
      "146    3\n",
      "147    3\n",
      "148    3\n",
      "149    3\n",
      "Name: species, Length: 150, dtype: int64\n"
     ]
    }
   ],
   "source": [
    "features = ['sepal_length', 'sepal_width', 'petal_length', 'petal_width']\n",
    "\n",
    "X = df[features]\n",
    "y = df['species']\n",
    "\n",
    "print(X)\n",
    "print(y)"
   ]
  },
  {
   "cell_type": "code",
   "execution_count": 7,
   "metadata": {},
   "outputs": [
    {
     "data": {
      "image/png": "[encoded data removed]",
      "text/plain": [
       "<Figure size 432x288 with 1 Axes>"
      ]
     },
     "metadata": {
      "needs_background": "light"
     },
     "output_type": "display_data"
    }
   ],
   "source": [
    "dtree = DecisionTreeClassifier()\n",
    "dtree = dtree.fit(X, y)\n",
    "data = tree.export_graphviz(dtree, out_file=None, feature_names=features)\n",
    "graph = pydotplus.graph_from_dot_data(data)\n",
    "graph.write_png('mydecisiontree.png')\n",
    "\n",
    "img=pltimg.imread('mydecisiontree.png')\n",
    "imgplot = plt.imshow(img)\n",
    "plt.show()"
   ]
  },
  {
   "cell_type": "code",
   "execution_count": 10,
   "metadata": {},
   "outputs": [
    {
     "name": "stdout",
     "output_type": "stream",
     "text": [
      "[2]\n"
     ]
    }
   ],
   "source": [
    "print(dtree.predict([[5.9, 3.0, 4.3, 2.1]]))"
   ]
  },
  {
   "cell_type": "code",
   "execution_count": 11,
   "metadata": {},
   "outputs": [
    {
     "data": {
      "text/plain": [
       "array([1])"
      ]
     },
     "execution_count": 11,
     "metadata": {},
     "output_type": "execute_result"
    }
   ],
   "source": [
    "#Load library\n",
    "from sklearn.tree import DecisionTreeClassifier\n",
    "from sklearn import datasets\n",
    "\n",
    "#Load data\n",
    "iris=datasets.load_iris()\n",
    "features=iris.data\n",
    "target=iris.target\n",
    "\n",
    "#Create decision tree classifier object\n",
    "decisiontree= DecisionTreeClassifier(random_state=0)\n",
    "\n",
    "#Train model\n",
    "model= decisiontree.fit(features, target)\n",
    "\n",
    "##Discussion\n",
    "\n",
    "#Make new observation\n",
    "observation =[[5,4,3,2]]\n",
    "\n",
    "#Predict observation's class\n",
    "model.predict(observation)\n"
   ]
  },
  {
   "cell_type": "code",
   "execution_count": 13,
   "metadata": {},
   "outputs": [
    {
     "data": {
      "text/plain": [
       "array([[0., 1., 0.]])"
      ]
     },
     "execution_count": 13,
     "metadata": {},
     "output_type": "execute_result"
    }
   ],
   "source": [
    "# We can also see the predicted class probabilities of the observation:\n",
    "#View predicted class probabilities of the observations:\n",
    "model.predict_proba(observation)\n",
    "\n"
   ]
  },
  {
   "cell_type": "code",
   "execution_count": 14,
   "metadata": {},
   "outputs": [],
   "source": [
    "#Finally, if we want to use a different impurity measurement we can use the criterion #parameter:\n",
    "#Create decision tree classifier object using entropy\n",
    "\n",
    "decisiontree_entropy = DecisionTreeClassifier ( criterion ='entropy', random_state =0)\n",
    "\n",
    "#Train model\n",
    "\n",
    "model_entropy = decisiontree_entropy.fit(features, target)\n"
   ]
  },
  {
   "cell_type": "code",
   "execution_count": 15,
   "metadata": {},
   "outputs": [],
   "source": [
    "#Training a decision Tree Regressor\n",
    "\n",
    "#Task: You need to train a regression model using a decision tree.\n",
    "\n",
    "#Use scikit learn's DecisionTreeRegressor:\n",
    "\n",
    "#Load libraries\n",
    "from sklearn.tree import DecisionTreeRegressor\n",
    "from sklearn import datasets\n",
    "\n",
    "#Load data with only two features\n",
    "boston = datasets.load_boston()\n",
    "features = boston.data[:,0:2]\n",
    "target = boston.target\n"
   ]
  },
  {
   "cell_type": "code",
   "execution_count": 16,
   "metadata": {},
   "outputs": [
    {
     "data": {
      "text/plain": [
       "array([33.])"
      ]
     },
     "execution_count": 16,
     "metadata": {},
     "output_type": "execute_result"
    }
   ],
   "source": [
    "#Creating decision tree classifier object\n",
    "decisiontree= DecisionTreeRegressor(random_state=0)\n",
    "\n",
    "#Train model\n",
    "model= decisiontree.fit(features, target)\n",
    "\n",
    "#Decision tree regression works similarly to decision tree classification, however, instead #of reducing Gini impurity\n",
    "# or entropy, potential splits are by default measured on how much they reduce mean squared error (MSE):\n",
    "\n",
    "#Make new observation\n",
    "observation =[[0.02, 16]]\n",
    "\n",
    "#Predict observation's value\n",
    "model.predict (observation)\n"
   ]
  },
  {
   "cell_type": "code",
   "execution_count": null,
   "metadata": {},
   "outputs": [],
   "source": []
  }
 ],
 "metadata": {
  "kernelspec": {
   "display_name": "Python 3",
   "language": "python",
   "name": "python3"
  },
  "language_info": {
   "codemirror_mode": {
    "name": "ipython",
    "version": 3
   },
   "file_extension": ".py",
   "mimetype": "text/x-python",
   "name": "python",
   "nbconvert_exporter": "python",
   "pygments_lexer": "ipython3",
   "version": "3.7.3"
  }
 },
 "nbformat": 4,
 "nbformat_minor": 4
}
