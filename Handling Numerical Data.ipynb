{
 "cells": [
  {
   "cell_type": "code",
   "execution_count": null,
   "metadata": {},
   "outputs": [],
   "source": [
    "\n",
    "#Normalizing Observations"
   ]
  },
  {
   "cell_type": "code",
   "execution_count": 11,
   "metadata": {},
   "outputs": [
    {
     "data": {
      "text/plain": [
       "array([[0.70710678, 0.70710678],\n",
       "       [0.30782029, 0.95144452],\n",
       "       [0.07405353, 0.99725427],\n",
       "       [0.04733062, 0.99887928],\n",
       "       [0.95709822, 0.28976368]])"
      ]
     },
     "execution_count": 11,
     "metadata": {},
     "output_type": "execute_result"
    }
   ],
   "source": [
    "#Problem\n",
    "#You want to rescale the feature values of observations to have unit norm (a totoal length of 1)\n",
    "\n",
    "#Solution\n",
    "#Use Normalizer with a norm argument:\n",
    "\n",
    "#Load libraries\n",
    "import numpy as np\n",
    "from sklearn.preprocessing import Normalizer\n",
    "\n",
    "#Create feature matrix\n",
    "features =np.array([[0.5, 0.5],\n",
    "                    [1.1, 3.4],\n",
    "                    [1.5, 20.2],\n",
    "                    [1.63,34.4],\n",
    "                    [10.9, 3.3]])\n",
    "\n",
    "#Create normalizer\n",
    "normalizer= Normalizer(norm = \"l2\")\n",
    "\n",
    "#Transform feature matrix\n",
    "normalizer.transform(features)"
   ]
  },
  {
   "cell_type": "code",
   "execution_count": 13,
   "metadata": {},
   "outputs": [
    {
     "data": {
      "text/plain": [
       "array([[0.70710678, 0.70710678],\n",
       "       [0.30782029, 0.95144452],\n",
       "       [0.07405353, 0.99725427],\n",
       "       [0.04733062, 0.99887928],\n",
       "       [0.95709822, 0.28976368]])"
      ]
     },
     "execution_count": 13,
     "metadata": {},
     "output_type": "execute_result"
    }
   ],
   "source": [
    "##Many rescaling methods (e.g. min-max scaling and standardization)operate on features;\n",
    "##We can also resacle across individual observations\n",
    "##Normalizer rescales the values on individual observations to have unit norm (the sum of their lengths is 1)\n",
    "\n",
    "##This type of rescaling is often used when we have many equivalent features\n",
    "#(e.g., text classification when every word or n-word group is a feature)\n",
    "\n",
    "##Normalizer provides three norm options with Euclidean norm (often called L2)\n",
    "\n",
    "##Transform feature matrix\n",
    "features_l2_norm =Normalizer(norm ='l2').transform(features)\n",
    "\n",
    "##Show feature matrix\n",
    "features_l2_norm"
   ]
  },
  {
   "cell_type": "code",
   "execution_count": 15,
   "metadata": {},
   "outputs": [
    {
     "data": {
      "text/plain": [
       "array([[0.5       , 0.5       ],\n",
       "       [0.24444444, 0.75555556],\n",
       "       [0.06912442, 0.93087558],\n",
       "       [0.04524008, 0.95475992],\n",
       "       [0.76760563, 0.23239437]])"
      ]
     },
     "execution_count": 15,
     "metadata": {},
     "output_type": "execute_result"
    }
   ],
   "source": [
    "#Alternatively, we can specifify Manhattan norm(L1):\n",
    "\n",
    "#Transform feature matrix\n",
    "features_l1_norm =Normalizer(norm ='l1').transform(features)\n",
    "\n",
    "#Show feature matrix\n",
    "features_l1_norm"
   ]
  },
  {
   "cell_type": "code",
   "execution_count": 21,
   "metadata": {},
   "outputs": [
    {
     "name": "stdout",
     "output_type": "stream",
     "text": [
      "Sum of the first observation's values: 1.0\n"
     ]
    }
   ],
   "source": [
    "#Practically notice that norm= 'l1' rescales an observation's values so they sum to 1,\n",
    "#which is sometimes be a desirable quality:\n",
    "\n",
    "#Print sum\n",
    "print(\"Sum of the first observation\\'s values:\",\n",
    "  features_l1_norm[0,0] + features_l1_norm[0,1])"
   ]
  },
  {
   "cell_type": "code",
   "execution_count": 23,
   "metadata": {},
   "outputs": [
    {
     "data": {
      "text/plain": [
       "array([[2., 3., 4., 6., 9.],\n",
       "       [2., 3., 4., 6., 9.],\n",
       "       [2., 3., 4., 6., 9.]])"
      ]
     },
     "execution_count": 23,
     "metadata": {},
     "output_type": "execute_result"
    }
   ],
   "source": [
    "##Generating Polynomial and Interaction Features\n",
    "##Problem: You want to create polynomial and interaction features\n",
    "#Solution\n",
    "##Even though some choose to create polynomial and interaction features manually, \n",
    "#scikit learn offers a build-in method:\n",
    "\n",
    "#Load libraries\n",
    "import numpy as np\n",
    "from sklearn.preprocessing import PolynomialFeatures\n",
    "\n",
    "#Create feature matrix\n",
    "features =np.array([[2,3],\n",
    "                   [2,3],\n",
    "                   [2,3]])\n",
    "\n",
    "#Create PolynomialFeatures object\n",
    "polynomial_interaction = PolynomialFeatures(degree =2, include_bias =False)\n",
    "\n",
    "#Create polynomial features\n",
    "polynomial_interaction.fit_transform(features)\n",
    "\n",
    "\n"
   ]
  },
  {
   "cell_type": "code",
   "execution_count": 25,
   "metadata": {},
   "outputs": [
    {
     "data": {
      "text/plain": [
       "array([[2., 3., 6.],\n",
       "       [2., 3., 6.],\n",
       "       [2., 3., 6.]])"
      ]
     },
     "execution_count": 25,
     "metadata": {},
     "output_type": "execute_result"
    }
   ],
   "source": [
    "#The degree parameter determines determines the maximum degree of the polynomial.\n",
    "#For example, degree =2 will create new features raised to the second power\n",
    "\n",
    "#We can restrict the features created to only interaction features by setting interaction_only to True:\n",
    "interaction = PolynomialFeatures(degree =2,\n",
    "                                interaction_only =True, \n",
    "                                include_bias =False)\n",
    "interaction.fit_transform(features)"
   ]
  },
  {
   "cell_type": "code",
   "execution_count": 27,
   "metadata": {},
   "outputs": [
    {
     "name": "stderr",
     "output_type": "stream",
     "text": [
      "/Users/AvijitSengupta/anaconda3/lib/python3.7/site-packages/sklearn/preprocessing/_function_transformer.py:98: FutureWarning: The default validate=True will be replaced by validate=False in 0.22.\n",
      "  \"validate=False in 0.22.\", FutureWarning)\n"
     ]
    },
    {
     "data": {
      "text/plain": [
       "array([[12, 13],\n",
       "       [12, 13],\n",
       "       [12, 13]])"
      ]
     },
     "execution_count": 27,
     "metadata": {},
     "output_type": "execute_result"
    }
   ],
   "source": [
    "#Discussion\n",
    "#Polynomial features are often created when we want to include the notion that there exists a nonlinear relationship\n",
    "#between the features and target\n",
    "\n",
    "##Transforming Features\n",
    "#Problem\n",
    "#You want to make custom transformation to one or more features:\n",
    "\n",
    "#Load libraries\n",
    "import numpy as np\n",
    "from sklearn.preprocessing import FunctionTransformer\n",
    "\n",
    "#Create feature matrix\n",
    "features =np.array([[2,3],\n",
    "                   [2,3],\n",
    "                   [2,3]])\n",
    "\n",
    "#Define a simple function\n",
    "def add_ten(x):\n",
    "    return x+10\n",
    "\n",
    "#Create transformer\n",
    "ten_transformer =FunctionTransformer(add_ten)\n",
    "\n",
    "#Transform feature matrix\n",
    "ten_transformer.transform(features)"
   ]
  },
  {
   "cell_type": "code",
   "execution_count": 28,
   "metadata": {},
   "outputs": [
    {
     "data": {
      "text/html": [
       "<div>\n",
       "<style scoped>\n",
       "    .dataframe tbody tr th:only-of-type {\n",
       "        vertical-align: middle;\n",
       "    }\n",
       "\n",
       "    .dataframe tbody tr th {\n",
       "        vertical-align: top;\n",
       "    }\n",
       "\n",
       "    .dataframe thead th {\n",
       "        text-align: right;\n",
       "    }\n",
       "</style>\n",
       "<table border=\"1\" class=\"dataframe\">\n",
       "  <thead>\n",
       "    <tr style=\"text-align: right;\">\n",
       "      <th></th>\n",
       "      <th>feature_1</th>\n",
       "      <th>feature_2</th>\n",
       "    </tr>\n",
       "  </thead>\n",
       "  <tbody>\n",
       "    <tr>\n",
       "      <th>0</th>\n",
       "      <td>12</td>\n",
       "      <td>13</td>\n",
       "    </tr>\n",
       "    <tr>\n",
       "      <th>1</th>\n",
       "      <td>12</td>\n",
       "      <td>13</td>\n",
       "    </tr>\n",
       "    <tr>\n",
       "      <th>2</th>\n",
       "      <td>12</td>\n",
       "      <td>13</td>\n",
       "    </tr>\n",
       "  </tbody>\n",
       "</table>\n",
       "</div>"
      ],
      "text/plain": [
       "   feature_1  feature_2\n",
       "0         12         13\n",
       "1         12         13\n",
       "2         12         13"
      ]
     },
     "execution_count": 28,
     "metadata": {},
     "output_type": "execute_result"
    }
   ],
   "source": [
    "#We can create the same transformation in pandas using apply:\n",
    "\n",
    "#Load libraries\n",
    "import pandas as pd\n",
    "\n",
    "#Create DataFrame\n",
    "df=pd.DataFrame(features, columns = [\"feature_1\", \"feature_2\"])\n",
    "\n",
    "#Apply function\n",
    "df.apply(add_ten)"
   ]
  },
  {
   "cell_type": "code",
   "execution_count": 38,
   "metadata": {},
   "outputs": [
    {
     "data": {
      "text/plain": [
       "array([-1,  1,  1])"
      ]
     },
     "execution_count": 38,
     "metadata": {},
     "output_type": "execute_result"
    }
   ],
   "source": [
    "#It is common to want to make some custom transformations to one or more features.\n",
    "\n",
    "##Detecting Outliers\n",
    "#You want to identify extreme observations.\n",
    "\n",
    "#Solution\n",
    "##Detecting outliers is more of an art than a science.\n",
    "\n",
    "#However, a common rule of thumb is to assume the data is normally distributed and based on that assumption\n",
    "#'draw' an ellipse around the data, classify any observation inside the ellips as an inlier(labeled as 1)\n",
    "#and any observation outside the ellipse as an outlier (labeled as -1):\n",
    "\n",
    "\n",
    "#Load libraries\n",
    "import numpy as np\n",
    "from sklearn.covariance import EllipticEnvelope\n",
    "from sklearn.datasets import make_blobs\n",
    "\n",
    "#Create simulated data\n",
    "feature,_ = make_blobs(n_samples =110,\n",
    "                       n_features =2,\n",
    "                       centers =1,\n",
    "                       random_state =1)\n",
    "\n",
    "#Replace the first observation's values with extreme values\n",
    "features[0,0]= 10000\n",
    "features[0,1]=10000\n",
    "\n",
    "#Create detector\n",
    "outlier_detector = EllipticEnvelope (contamination =.1)\n",
    "\n",
    "#Fit detector\n",
    "outlier_detector.fit(features)\n",
    "\n",
    "#Predict outliers\n",
    "outlier_detector.predict(features)"
   ]
  },
  {
   "cell_type": "code",
   "execution_count": null,
   "metadata": {},
   "outputs": [],
   "source": [
    "#A major limitation of this approach is the need to specify a contamination parameter,\n",
    "#which is the proportion of observations that are outlier- a value which we don't know."
   ]
  },
  {
   "cell_type": "code",
   "execution_count": 39,
   "metadata": {},
   "outputs": [
    {
     "data": {
      "text/plain": [
       "(array([], dtype=int64), array([], dtype=int64))"
      ]
     },
     "execution_count": 39,
     "metadata": {},
     "output_type": "execute_result"
    }
   ],
   "source": [
    "#Instead of looking at observations as a whole, we can instead look at individual features\n",
    "#and identify extreme values in those features using interquartile range(IQR):\n",
    "#Create one feature\n",
    "feature = features[:,0]\n",
    "\n",
    "#Create a function to return index of outliers\n",
    "def indices_of_outliers(x):\n",
    "    q1,q3 = np.percentile(x,[25,75])\n",
    "    iqr =q3-q1\n",
    "    lower_bound =q1-(iqr * 1.5)\n",
    "    upper_bound =q3+(iqr* 1.5)\n",
    "    return np.where((x>upper_bound)| (x< lower_bound))\n",
    "\n",
    "#Run function\n",
    "indices_of_outliers(features)"
   ]
  },
  {
   "cell_type": "code",
   "execution_count": 40,
   "metadata": {},
   "outputs": [
    {
     "data": {
      "text/html": [
       "<div>\n",
       "<style scoped>\n",
       "    .dataframe tbody tr th:only-of-type {\n",
       "        vertical-align: middle;\n",
       "    }\n",
       "\n",
       "    .dataframe tbody tr th {\n",
       "        vertical-align: top;\n",
       "    }\n",
       "\n",
       "    .dataframe thead th {\n",
       "        text-align: right;\n",
       "    }\n",
       "</style>\n",
       "<table border=\"1\" class=\"dataframe\">\n",
       "  <thead>\n",
       "    <tr style=\"text-align: right;\">\n",
       "      <th></th>\n",
       "      <th>Price</th>\n",
       "      <th>Bathrooms</th>\n",
       "      <th>Square_Feet</th>\n",
       "    </tr>\n",
       "  </thead>\n",
       "  <tbody>\n",
       "    <tr>\n",
       "      <th>0</th>\n",
       "      <td>534433</td>\n",
       "      <td>2.0</td>\n",
       "      <td>1500</td>\n",
       "    </tr>\n",
       "    <tr>\n",
       "      <th>1</th>\n",
       "      <td>392333</td>\n",
       "      <td>3.5</td>\n",
       "      <td>2500</td>\n",
       "    </tr>\n",
       "    <tr>\n",
       "      <th>2</th>\n",
       "      <td>293222</td>\n",
       "      <td>2.0</td>\n",
       "      <td>1500</td>\n",
       "    </tr>\n",
       "  </tbody>\n",
       "</table>\n",
       "</div>"
      ],
      "text/plain": [
       "    Price  Bathrooms  Square_Feet\n",
       "0  534433        2.0         1500\n",
       "1  392333        3.5         2500\n",
       "2  293222        2.0         1500"
      ]
     },
     "execution_count": 40,
     "metadata": {},
     "output_type": "execute_result"
    }
   ],
   "source": [
    "#IQR is the difference between the first and third quartile of a set of data.\n",
    "#You can think of IQR as the spread of the bulk of the data, \n",
    "#with outliers being observations far from the main concentaration of data.\n",
    "\n",
    "#Outliers are commonly defined as any value 1.5 IQRs less than the first quartile or 1.5IQRs greater than the third \n",
    "#quartile.\n",
    "\n",
    "#Handling Outliers\n",
    "\n",
    "#Problem\n",
    "#You have outliers\n",
    "#Solution\n",
    "#Typically we have three strategies we can use to handle outliers. First we can drop them:\n",
    "#Load libraries\n",
    "import pandas as pd\n",
    "\n",
    "#Create DataFrames\n",
    "houses =pd.DataFrame()\n",
    "houses['Price']= [534433, 392333, 293222, 4322032]\n",
    "houses['Bathrooms']=[2,3.5,2,116]\n",
    "houses['Square_Feet']=[1500, 2500, 1500, 48000]\n",
    "\n",
    "#Filter observations\n",
    "houses[houses['Bathrooms']<20]"
   ]
  },
  {
   "cell_type": "code",
   "execution_count": 41,
   "metadata": {},
   "outputs": [
    {
     "data": {
      "text/html": [
       "<div>\n",
       "<style scoped>\n",
       "    .dataframe tbody tr th:only-of-type {\n",
       "        vertical-align: middle;\n",
       "    }\n",
       "\n",
       "    .dataframe tbody tr th {\n",
       "        vertical-align: top;\n",
       "    }\n",
       "\n",
       "    .dataframe thead th {\n",
       "        text-align: right;\n",
       "    }\n",
       "</style>\n",
       "<table border=\"1\" class=\"dataframe\">\n",
       "  <thead>\n",
       "    <tr style=\"text-align: right;\">\n",
       "      <th></th>\n",
       "      <th>Price</th>\n",
       "      <th>Bathrooms</th>\n",
       "      <th>Square_Feet</th>\n",
       "      <th>Outliers</th>\n",
       "    </tr>\n",
       "  </thead>\n",
       "  <tbody>\n",
       "    <tr>\n",
       "      <th>0</th>\n",
       "      <td>534433</td>\n",
       "      <td>2.0</td>\n",
       "      <td>1500</td>\n",
       "      <td>0</td>\n",
       "    </tr>\n",
       "    <tr>\n",
       "      <th>1</th>\n",
       "      <td>392333</td>\n",
       "      <td>3.5</td>\n",
       "      <td>2500</td>\n",
       "      <td>0</td>\n",
       "    </tr>\n",
       "    <tr>\n",
       "      <th>2</th>\n",
       "      <td>293222</td>\n",
       "      <td>2.0</td>\n",
       "      <td>1500</td>\n",
       "      <td>0</td>\n",
       "    </tr>\n",
       "    <tr>\n",
       "      <th>3</th>\n",
       "      <td>4322032</td>\n",
       "      <td>116.0</td>\n",
       "      <td>48000</td>\n",
       "      <td>1</td>\n",
       "    </tr>\n",
       "  </tbody>\n",
       "</table>\n",
       "</div>"
      ],
      "text/plain": [
       "     Price  Bathrooms  Square_Feet  Outliers\n",
       "0   534433        2.0         1500         0\n",
       "1   392333        3.5         2500         0\n",
       "2   293222        2.0         1500         0\n",
       "3  4322032      116.0        48000         1"
      ]
     },
     "execution_count": 41,
     "metadata": {},
     "output_type": "execute_result"
    }
   ],
   "source": [
    "#Second, we can mark them as outliers and include it as a feature:\n",
    "houses[\"Outliers\"] =np.where(houses[\"Bathrooms\"]< 20,0, 1)\n",
    "\n",
    "#Show data\n",
    "houses"
   ]
  },
  {
   "cell_type": "code",
   "execution_count": 42,
   "metadata": {},
   "outputs": [
    {
     "data": {
      "text/html": [
       "<div>\n",
       "<style scoped>\n",
       "    .dataframe tbody tr th:only-of-type {\n",
       "        vertical-align: middle;\n",
       "    }\n",
       "\n",
       "    .dataframe tbody tr th {\n",
       "        vertical-align: top;\n",
       "    }\n",
       "\n",
       "    .dataframe thead th {\n",
       "        text-align: right;\n",
       "    }\n",
       "</style>\n",
       "<table border=\"1\" class=\"dataframe\">\n",
       "  <thead>\n",
       "    <tr style=\"text-align: right;\">\n",
       "      <th></th>\n",
       "      <th>Price</th>\n",
       "      <th>Bathrooms</th>\n",
       "      <th>Square_Feet</th>\n",
       "      <th>Outliers</th>\n",
       "      <th>log_Of_Square_Feet</th>\n",
       "    </tr>\n",
       "  </thead>\n",
       "  <tbody>\n",
       "    <tr>\n",
       "      <th>0</th>\n",
       "      <td>534433</td>\n",
       "      <td>2.0</td>\n",
       "      <td>1500</td>\n",
       "      <td>0</td>\n",
       "      <td>7.313220</td>\n",
       "    </tr>\n",
       "    <tr>\n",
       "      <th>1</th>\n",
       "      <td>392333</td>\n",
       "      <td>3.5</td>\n",
       "      <td>2500</td>\n",
       "      <td>0</td>\n",
       "      <td>7.824046</td>\n",
       "    </tr>\n",
       "    <tr>\n",
       "      <th>2</th>\n",
       "      <td>293222</td>\n",
       "      <td>2.0</td>\n",
       "      <td>1500</td>\n",
       "      <td>0</td>\n",
       "      <td>7.313220</td>\n",
       "    </tr>\n",
       "    <tr>\n",
       "      <th>3</th>\n",
       "      <td>4322032</td>\n",
       "      <td>116.0</td>\n",
       "      <td>48000</td>\n",
       "      <td>1</td>\n",
       "      <td>10.778956</td>\n",
       "    </tr>\n",
       "  </tbody>\n",
       "</table>\n",
       "</div>"
      ],
      "text/plain": [
       "     Price  Bathrooms  Square_Feet  Outliers  log_Of_Square_Feet\n",
       "0   534433        2.0         1500         0            7.313220\n",
       "1   392333        3.5         2500         0            7.824046\n",
       "2   293222        2.0         1500         0            7.313220\n",
       "3  4322032      116.0        48000         1           10.778956"
      ]
     },
     "execution_count": 42,
     "metadata": {},
     "output_type": "execute_result"
    }
   ],
   "source": [
    "#Finally, we can transform the feature to dampen the effect of the outlier:\n",
    "\n",
    "#Log features\n",
    "houses[\"log_Of_Square_Feet\"]=[np.log(x)for x in houses [\"Square_Feet\"]]\n",
    "\n",
    "#Show data\n",
    "houses"
   ]
  },
  {
   "cell_type": "code",
   "execution_count": null,
   "metadata": {},
   "outputs": [],
   "source": []
  }
 ],
 "metadata": {
  "kernelspec": {
   "display_name": "Python 3",
   "language": "python",
   "name": "python3"
  },
  "language_info": {
   "codemirror_mode": {
    "name": "ipython",
    "version": 3
   },
   "file_extension": ".py",
   "mimetype": "text/x-python",
   "name": "python",
   "nbconvert_exporter": "python",
   "pygments_lexer": "ipython3",
   "version": "3.7.3"
  }
 },
 "nbformat": 4,
 "nbformat_minor": 2
}
