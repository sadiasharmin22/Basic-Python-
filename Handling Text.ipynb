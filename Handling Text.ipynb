{
 "cells": [
  {
   "cell_type": "code",
   "execution_count": 1,
   "metadata": {},
   "outputs": [
    {
     "data": {
      "text/plain": [
       "['Interrobang. By Aishwarya Henrietta',\n",
       " 'Parking and Going. By Karl Gautier',\n",
       " 'Today Is The night. By Jarek Prakas']"
      ]
     },
     "execution_count": 1,
     "metadata": {},
     "output_type": "execute_result"
    }
   ],
   "source": [
    "#Unstructure Text Data\n",
    "#How to transform text into information-rich features\n",
    "#Some commonly use techniques\n",
    "\n",
    "#Cleaning Test\n",
    "#Problem\n",
    "#You have some unstructured text data and want to complete some basic cleaning\n",
    "#Solution\n",
    "#Most basic text cleaning operations should only replace Python's core string operations, \n",
    "#in particular strip,replace, and split:\n",
    "#create text\n",
    "text_data = [\"    Interrobang. By Aishwarya Henrietta     \",\n",
    "            \"Parking and Going. By Karl Gautier\", \n",
    "            \"     Today Is The night. By Jarek Prakas    \"]\n",
    "#Strip whitespaces\n",
    "strip_whitespace = [string.strip() for string in text_data]\n",
    "#Show text\n",
    "strip_whitespace"
   ]
  },
  {
   "cell_type": "code",
   "execution_count": 33,
   "metadata": {},
   "outputs": [],
   "source": [
    "#Remove periods\n",
    "remove_periods = [string.replace(\".\",\"\") for string in strip_whitespace]"
   ]
  },
  {
   "cell_type": "code",
   "execution_count": 34,
   "metadata": {},
   "outputs": [
    {
     "data": {
      "text/plain": [
       "['Interrobang By Aishwarya Henrietta',\n",
       " 'Parking and Going By Karl Gautier',\n",
       " 'Today Is The night By Jarek Prakas']"
      ]
     },
     "execution_count": 34,
     "metadata": {},
     "output_type": "execute_result"
    }
   ],
   "source": [
    "#Show text\n",
    "remove_periods "
   ]
  },
  {
   "cell_type": "code",
   "execution_count": 35,
   "metadata": {},
   "outputs": [
    {
     "data": {
      "text/plain": [
       "['INTERROBANG BY AISHWARYA HENRIETTA',\n",
       " 'PARKING AND GOING BY KARL GAUTIER',\n",
       " 'TODAY IS THE NIGHT BY JAREK PRAKAS']"
      ]
     },
     "execution_count": 35,
     "metadata": {},
     "output_type": "execute_result"
    }
   ],
   "source": [
    "#We also create and apply a custom transformation function:\n",
    "def capitalizer(string:str)-> str:\n",
    "    return string.upper()\n",
    "#Apply function\n",
    "[capitalizer(string) for string in remove_periods]"
   ]
  },
  {
   "cell_type": "code",
   "execution_count": 36,
   "metadata": {},
   "outputs": [
    {
     "data": {
      "text/plain": [
       "['XXXXXXXXXXX XX XXXXXXXXX XXXXXXXXX',\n",
       " 'XXXXXXX XXX XXXXX XX XXXX XXXXXXX',\n",
       " 'XXXXX XX XXX XXXXX XX XXXXX XXXXXX']"
      ]
     },
     "execution_count": 36,
     "metadata": {},
     "output_type": "execute_result"
    }
   ],
   "source": [
    "#Finally, we can use regular expressions to make powerful string opewrations:\n",
    "#import library\n",
    "import re\n",
    "#Create function\n",
    "def replace_letters_with_X(string:str)->str:\n",
    "    return re.sub(r\"[a-zA-Z]\", 'X', string)\n",
    "\n",
    "#Apply function\n",
    "[replace_letters_with_X(string) for string in remove_periods]"
   ]
  },
  {
   "cell_type": "code",
   "execution_count": 37,
   "metadata": {},
   "outputs": [
    {
     "data": {
      "text/plain": [
       "'\\n       Masego Azra'"
      ]
     },
     "execution_count": 37,
     "metadata": {},
     "output_type": "execute_result"
    }
   ],
   "source": [
    "###Discussion\n",
    "##\n",
    "#\n",
    "#Parsing and Cleaning HTML\n",
    "#Problem : You have text data with HTML elements and want to extract just the text.\n",
    "#Solution\n",
    "#Use Beautiful Soup's extensive set of options to parse and extracxt from HTML:\n",
    "#Load library\n",
    "\n",
    "from bs4 import BeautifulSoup\n",
    "#Create some HTML code\n",
    "html = \"\"\"\n",
    "       <div class ='full_name'><span style = 'font-weight:bold'>\n",
    "       Masego</span> Azra</div>\"\n",
    "       \"\"\"\n",
    "#Parse html\n",
    "soup =BeautifulSoup(html,\"lxml\")\n",
    "\n",
    "#Find the div with the class \"full_name\", show text\n",
    "soup.find(\"div\", {\"class\": \"full_name\"}).text"
   ]
  },
  {
   "cell_type": "code",
   "execution_count": 38,
   "metadata": {},
   "outputs": [],
   "source": [
    "###Discussion"
   ]
  },
  {
   "cell_type": "code",
   "execution_count": 39,
   "metadata": {},
   "outputs": [
    {
     "data": {
      "text/plain": [
       "['HiI Love This Song', '10000 AgreeLoveIT', 'Right']"
      ]
     },
     "execution_count": 39,
     "metadata": {},
     "output_type": "execute_result"
    }
   ],
   "source": [
    "#Removing Punctuation\n",
    "#Solution\n",
    "#Define a function that uses translate with a dictionary of punctuation characters:\n",
    "#Load libraries\n",
    "import unicodedata\n",
    "import sys\n",
    "#Create text\n",
    "text_data = ['Hi!!!!!!!!!!!!!!!!I. Love. This. Song.......',\n",
    "            '10000% Agree!!!!#LoveIT',\n",
    "            'Right?!?!']\n",
    "#Create a dictionary of punctuation characters\n",
    "punctuation = dict.fromkeys(i for i in range(sys.maxunicode)\n",
    "                          if unicodedata.category(chr(i)).startswith('P'))\n",
    "#For each string, remove any punctuation characters\n",
    "[string.translate(punctuation) for string in text_data]"
   ]
  },
  {
   "cell_type": "code",
   "execution_count": 40,
   "metadata": {},
   "outputs": [],
   "source": [
    "###Discussion"
   ]
  },
  {
   "cell_type": "code",
   "execution_count": 41,
   "metadata": {},
   "outputs": [],
   "source": [
    "#Tokenizing Text \n",
    "#Problem: You have text and want to break it up into individual words.\n",
    "#Solution\n",
    "#Natural Language Toolkit for Python (NLTK)has a powerful set of text manupualtion operations, including word tokenizing:\n",
    "#Load library\n",
    "\n",
    "\n",
    "from nltk.tokenize import word_tokenize\n"
   ]
  },
  {
   "cell_type": "code",
   "execution_count": 42,
   "metadata": {},
   "outputs": [
    {
     "data": {
      "text/plain": [
       "['The', 'science', 'of', 'today', 'is', 'the', 'technology', 'of', 'tomorrow']"
      ]
     },
     "execution_count": 42,
     "metadata": {},
     "output_type": "execute_result"
    }
   ],
   "source": [
    "#Create text \n",
    "string = 'The science of today is the technology of tomorrow'\n",
    "#Tokenize words\n",
    "word_tokenize(string)"
   ]
  },
  {
   "cell_type": "code",
   "execution_count": 43,
   "metadata": {},
   "outputs": [
    {
     "data": {
      "text/plain": [
       "['The science of today is the technology of tomorrow.', 'Tomorrow is today.']"
      ]
     },
     "execution_count": 43,
     "metadata": {},
     "output_type": "execute_result"
    }
   ],
   "source": [
    "#We can also tokenize into sentences:\n",
    "from nltk.tokenize import sent_tokenize\n",
    "\n",
    "#create text\n",
    "string ='The science of today is the technology of tomorrow. Tomorrow is today.'\n",
    "\n",
    "#Tokenize sentences\n",
    "sent_tokenize(string)"
   ]
  },
  {
   "cell_type": "code",
   "execution_count": 44,
   "metadata": {},
   "outputs": [],
   "source": [
    "##Discussion"
   ]
  },
  {
   "cell_type": "code",
   "execution_count": 45,
   "metadata": {},
   "outputs": [
    {
     "data": {
      "text/plain": [
       "['going', 'go', 'store', 'park']"
      ]
     },
     "execution_count": 45,
     "metadata": {},
     "output_type": "execute_result"
    }
   ],
   "source": [
    "#Removing Stop Words\n",
    "#Problem\n",
    "#Given tokenized text data, you want to remove extreamely common words (e.g., a, is, of, on) \n",
    "#that contain little informormational value.\n",
    "#Solution\n",
    "\n",
    "#Use NLTK's stopwards\n",
    "\n",
    "from nltk.corpus import stopwords\n",
    "\n",
    "#You will have to download the set of stop words the first time\n",
    "#import nltk\n",
    "#nltk.download('stopwords')\n",
    "#Create word tokens\n",
    "tokenized_words = [ 'i',\n",
    "                  'am',\n",
    "                  'going',\n",
    "                  'to',\n",
    "                  'go',\n",
    "                  'to',\n",
    "                  'the',\n",
    "                  'store',\n",
    "                  'and',\n",
    "                  'park']\n",
    "#Load stop words\n",
    "stop_words=stopwords.words('english')\n",
    "#Remove stop words\n",
    "[word for word in tokenized_words if word not in stop_words]\n"
   ]
  },
  {
   "cell_type": "code",
   "execution_count": 46,
   "metadata": {},
   "outputs": [
    {
     "data": {
      "text/plain": [
       "['i', 'me', 'my', 'myself', 'we']"
      ]
     },
     "execution_count": 46,
     "metadata": {},
     "output_type": "execute_result"
    }
   ],
   "source": [
    "#\n",
    "##\n",
    "#show stop words\n",
    "stop_words[:5]"
   ]
  },
  {
   "cell_type": "code",
   "execution_count": 47,
   "metadata": {},
   "outputs": [
    {
     "data": {
      "text/plain": [
       "['i', 'am', 'humbl', 'by', 'thi', 'tradit', 'meet']"
      ]
     },
     "execution_count": 47,
     "metadata": {},
     "output_type": "execute_result"
    }
   ],
   "source": [
    "#Stemming Words\n",
    "#Problem : You have tokenizd words and want to convert them into their root forms.\n",
    "#Solution\n",
    "#Use NLTK's PorterStemmer:\n",
    "#Load Library\n",
    "from nltk.stem.porter import PorterStemmer\n",
    "#Create word tokens \n",
    "tokenized_words =[\"i\",\"am\",\"humbled\",\"by\",\"this\", \"traditional\",'meeting']\n",
    "#Create stemmer\n",
    "porter =PorterStemmer()\n",
    "\n",
    "#Apply stemmer\n",
    "[porter.stem(word) for word in tokenized_words]\n"
   ]
  },
  {
   "cell_type": "code",
   "execution_count": 48,
   "metadata": {},
   "outputs": [],
   "source": [
    "####Discussion"
   ]
  },
  {
   "cell_type": "code",
   "execution_count": 49,
   "metadata": {},
   "outputs": [
    {
     "data": {
      "text/plain": [
       "[('Chris', 'NNP'), ('loved', 'VBD'), ('outdoor', 'RP'), ('running', 'VBG')]"
      ]
     },
     "execution_count": 49,
     "metadata": {},
     "output_type": "execute_result"
    }
   ],
   "source": [
    "#Tagging Parts of Speech\n",
    "#Problem: You have text data and want to tag each word or character with its parts of speech.\n",
    "#Solution\n",
    "#Use NLTK's pre-trained parts-of-speech tagger:\n",
    "#Load Libraries\n",
    "from nltk import pos_tag\n",
    "from nltk import word_tokenize\n",
    "\n",
    "#Create text\n",
    "text_data = 'Chris loved outdoor running'\n",
    "#Use pre-trained part of speech tagger\n",
    "text_tagged = pos_tag(word_tokenize(text_data))\n",
    "\n",
    "#show parts of speech\n",
    "text_tagged"
   ]
  },
  {
   "cell_type": "code",
   "execution_count": 50,
   "metadata": {},
   "outputs": [],
   "source": [
    "### Tag Parts of Speech\n",
    "### NNP Proper Noun, Singular\n",
    "### NN  Noun, Singular or Mass\n",
    "### RB  Adverb\n",
    "### VBD Verb, Past tense"
   ]
  },
  {
   "cell_type": "code",
   "execution_count": 51,
   "metadata": {},
   "outputs": [
    {
     "data": {
      "text/plain": [
       "['Chris']"
      ]
     },
     "execution_count": 51,
     "metadata": {},
     "output_type": "execute_result"
    }
   ],
   "source": [
    "#Once the text has been tagged we can us the tag to find certain parts of speech. For example, here are all the nouns:\n",
    "#Filter words\n",
    "[word for word, tag in text_tagged if tag in [\"NN\", \"NNS\", \"NNP\", \"NNPS\"]]"
   ]
  },
  {
   "cell_type": "code",
   "execution_count": 55,
   "metadata": {},
   "outputs": [
    {
     "data": {
      "text/plain": [
       "array([[1, 0, 1, 0, 1, 1, 1, 0],\n",
       "       [1, 1, 1, 0, 0, 0, 0, 1],\n",
       "       [1, 1, 1, 1, 0, 0, 0, 1]])"
      ]
     },
     "execution_count": 55,
     "metadata": {},
     "output_type": "execute_result"
    }
   ],
   "source": [
    "#A more realiustic situation would be that we have data where every observation contains a tweet \n",
    "#and we want to convert those sentences into features for individual parts of speech (e.g. a feature with 1 \n",
    "#if proper noun is present, and zero otherwise):\n",
    "#Create text\n",
    "from sklearn.preprocessing import MultiLabelBinarizer\n",
    "tweets = [\"I am eating a buritto fro breakfact\",\n",
    "        \"Political science is an amazing field\",\n",
    "        \"San Francisco is an awesome city\"]\n",
    "#Create list\n",
    "tagged_tweets = []\n",
    "\n",
    "#Tag each word and each tweet\n",
    "for tweet in tweets:\n",
    "    tweet_tag = pos_tag(word_tokenize(tweet))\n",
    "    tagged_tweets.append([tag for word, tag in tweet_tag])\n",
    "    \n",
    "#Use one-hot encoding to convert the tags into features\n",
    "one_hot_multi = MultiLabelBinarizer()\n",
    "one_hot_multi.fit_transform(tagged_tweets)\n"
   ]
  },
  {
   "cell_type": "code",
   "execution_count": 56,
   "metadata": {},
   "outputs": [
    {
     "data": {
      "text/plain": [
       "array(['DT', 'JJ', 'NN', 'NNP', 'PRP', 'VBG', 'VBP', 'VBZ'], dtype=object)"
      ]
     },
     "execution_count": 56,
     "metadata": {},
     "output_type": "execute_result"
    }
   ],
   "source": [
    "#Using classes_we can see that each feature is a part-of-speech tag:\n",
    "one_hot_multi.classes_"
   ]
  },
  {
   "cell_type": "code",
   "execution_count": 57,
   "metadata": {},
   "outputs": [],
   "source": [
    "###Discussion\n",
    "####"
   ]
  },
  {
   "cell_type": "code",
   "execution_count": 61,
   "metadata": {},
   "outputs": [
    {
     "data": {
      "text/plain": [
       "0.8174734002697437"
      ]
     },
     "execution_count": 61,
     "metadata": {},
     "output_type": "execute_result"
    }
   ],
   "source": [
    "#Load library\n",
    "from nltk.corpus import brown\n",
    "from nltk.tag import UnigramTagger\n",
    "from nltk.tag import BigramTagger\n",
    "from nltk.tag import TrigramTagger\n",
    "\n",
    "#Get some text from the Brown Corpus, broken into sentences\n",
    "sentences= brown.tagged_sents(categories ='news')\n",
    "\n",
    "#Split into 4000 sentences for training and 623 for testing\n",
    "train =sentences[:4000]\n",
    "test = sentences [4000:]\n",
    "\n",
    "#create backoff tagger\n",
    "unigram = UnigramTagger(train)\n",
    "bigram =BigramTagger(train, backoff =unigram)\n",
    "trigram =TrigramTagger(train, backoff =bigram)\n",
    "\n",
    "#show accuracy\n",
    "trigram.evaluate(test)"
   ]
  },
  {
   "cell_type": "code",
   "execution_count": 66,
   "metadata": {},
   "outputs": [
    {
     "data": {
      "text/plain": [
       "<3x9 sparse matrix of type '<class 'numpy.int64'>'\n",
       "\twith 9 stored elements in Compressed Sparse Row format>"
      ]
     },
     "execution_count": 66,
     "metadata": {},
     "output_type": "execute_result"
    }
   ],
   "source": [
    "#Encoding Text as a Bag of Words\n",
    "#Problem:You have text data and want to create a set of features indicating the number of the times an\n",
    "#onservation's text contains a particular word.\n",
    "#Solution\n",
    "#Use scikit-learn's CountVectorizer:\n",
    "#Load library\n",
    "import numpy as np\n",
    "from sklearn.feature_extraction.text import CountVectorizer\n",
    "\n",
    "#Create text\n",
    "text_data =np.array(['I love Brazil, Brazil!',\n",
    "                    'Sweden is best',\n",
    "                     'But Germany beats both'])\n",
    "\n",
    "#Create the bag of words feature matrix\n",
    "count = CountVectorizer()\n",
    "bag_of_words = count.fit_transform(text_data)\n",
    "\n",
    "#Show feature matrix\n",
    "bag_of_words"
   ]
  },
  {
   "cell_type": "code",
   "execution_count": 68,
   "metadata": {},
   "outputs": [
    {
     "data": {
      "text/plain": [
       "array([[0, 0, 0, 2, 0, 0, 0, 1, 0],\n",
       "       [0, 1, 0, 0, 0, 0, 1, 0, 1],\n",
       "       [1, 0, 1, 0, 1, 1, 0, 0, 0]], dtype=int64)"
      ]
     },
     "execution_count": 68,
     "metadata": {},
     "output_type": "execute_result"
    }
   ],
   "source": [
    "##This output is a sparse array, which is often necessary when we have a large amount of text.\n",
    "#However, in our toy example we can use toarray to view a matrix of word counts for each observation:\n",
    "bag_of_words.toarray()"
   ]
  },
  {
   "cell_type": "code",
   "execution_count": 69,
   "metadata": {},
   "outputs": [
    {
     "data": {
      "text/plain": [
       "['beats', 'best', 'both', 'brazil', 'but', 'germany', 'is', 'love', 'sweden']"
      ]
     },
     "execution_count": 69,
     "metadata": {},
     "output_type": "execute_result"
    }
   ],
   "source": [
    "# We can use the vocabulary_ method to view the words associated with each feature:\n",
    "\n",
    "#Show feature names\n",
    "count.get_feature_names()"
   ]
  },
  {
   "cell_type": "code",
   "execution_count": 70,
   "metadata": {},
   "outputs": [],
   "source": [
    "###Discussion\n",
    "##"
   ]
  },
  {
   "cell_type": "code",
   "execution_count": 71,
   "metadata": {},
   "outputs": [
    {
     "data": {
      "text/plain": [
       "array([[2],\n",
       "       [0],\n",
       "       [0]], dtype=int64)"
      ]
     },
     "execution_count": 71,
     "metadata": {},
     "output_type": "execute_result"
    }
   ],
   "source": [
    "###Create feature matrix with arguments\n",
    "count_2gram = CountVectorizer(ngram_range =(1,2),\n",
    "                             stop_words = \"english\",\n",
    "                             vocabulary =['brazil'])\n",
    "bag =count_2gram.fit_transform(text_data)\n",
    "#View feature matrix\n",
    "bag.toarray()"
   ]
  },
  {
   "cell_type": "code",
   "execution_count": 73,
   "metadata": {},
   "outputs": [
    {
     "data": {
      "text/plain": [
       "{'brazil': 0}"
      ]
     },
     "execution_count": 73,
     "metadata": {},
     "output_type": "execute_result"
    }
   ],
   "source": [
    "#View the 1-Grams and the 2-grams\n",
    "count_2gram.vocabulary_"
   ]
  },
  {
   "cell_type": "code",
   "execution_count": 76,
   "metadata": {},
   "outputs": [
    {
     "data": {
      "text/plain": [
       "<3x9 sparse matrix of type '<class 'numpy.float64'>'\n",
       "\twith 9 stored elements in Compressed Sparse Row format>"
      ]
     },
     "execution_count": 76,
     "metadata": {},
     "output_type": "execute_result"
    }
   ],
   "source": [
    "###Weighting Word Importance\n",
    "\n",
    "#Problem: You want a bag of words, but with words weighted by their importance to an observation.\n",
    "\n",
    "#Solution\n",
    "#Compate the frequency of the word in a document (a tweet, movie review, speech transcript, etc.) \n",
    "#with the word in all other documents using term frequency-inverse document frequency (tf-idf).\n",
    "#scikit-learn makes this easy with TfidfVectorizer:\n",
    "\n",
    "#Load libraries\n",
    "import numpy as np\n",
    "from sklearn.feature_extraction.text import TfidfVectorizer\n",
    "\n",
    "#Create text\n",
    "text_data =np.array(['I love Brazil, Brazil!',\n",
    "                    'Sweden is best',\n",
    "                     'But Germany beats both'])\n",
    "\n",
    "#Create the tf-idf feature matrix\n",
    "tfidf=TfidfVectorizer()\n",
    "feature_matrix = tfidf.fit_transform(text_data)\n",
    "\n",
    "#Show td-idf feature matrix\n",
    "feature_matrix"
   ]
  },
  {
   "cell_type": "code",
   "execution_count": 77,
   "metadata": {},
   "outputs": [
    {
     "data": {
      "text/plain": [
       "array([[0.        , 0.        , 0.        , 0.89442719, 0.        ,\n",
       "        0.        , 0.        , 0.4472136 , 0.        ],\n",
       "       [0.        , 0.57735027, 0.        , 0.        , 0.        ,\n",
       "        0.        , 0.57735027, 0.        , 0.57735027],\n",
       "       [0.5       , 0.        , 0.5       , 0.        , 0.5       ,\n",
       "        0.5       , 0.        , 0.        , 0.        ]])"
      ]
     },
     "execution_count": 77,
     "metadata": {},
     "output_type": "execute_result"
    }
   ],
   "source": [
    "##Just as in Recipe 6.8 the output is a spare matrix. \n",
    "#However, if we want to view the output as a dense matrix. We can use .toarray:\n",
    "\n",
    "#Show tf-idf feature matrix as desnse matrix\n",
    "feature_matrix.toarray()"
   ]
  },
  {
   "cell_type": "code",
   "execution_count": 78,
   "metadata": {},
   "outputs": [
    {
     "data": {
      "text/plain": [
       "{'love': 7,\n",
       " 'brazil': 3,\n",
       " 'sweden': 8,\n",
       " 'is': 6,\n",
       " 'best': 1,\n",
       " 'but': 4,\n",
       " 'germany': 5,\n",
       " 'beats': 0,\n",
       " 'both': 2}"
      ]
     },
     "execution_count": 78,
     "metadata": {},
     "output_type": "execute_result"
    }
   ],
   "source": [
    "#vocabulary_shows us the word of each feature:\n",
    "#Show feature names\n",
    "tfidf.vocabulary_"
   ]
  },
  {
   "cell_type": "code",
   "execution_count": null,
   "metadata": {},
   "outputs": [],
   "source": [
    "###Discussion"
   ]
  }
 ],
 "metadata": {
  "kernelspec": {
   "display_name": "Python 3",
   "language": "python",
   "name": "python3"
  },
  "language_info": {
   "codemirror_mode": {
    "name": "ipython",
    "version": 3
   },
   "file_extension": ".py",
   "mimetype": "text/x-python",
   "name": "python",
   "nbconvert_exporter": "python",
   "pygments_lexer": "ipython3",
   "version": "3.7.3"
  }
 },
 "nbformat": 4,
 "nbformat_minor": 4
}
