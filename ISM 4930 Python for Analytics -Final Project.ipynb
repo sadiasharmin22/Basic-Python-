{
 "cells": [
  {
   "cell_type": "code",
   "execution_count": 1,
   "metadata": {},
   "outputs": [
    {
     "name": "stdout",
     "output_type": "stream",
     "text": [
      "Python: 3.8.3 (default, Jul  2 2020, 17:30:36) [MSC v.1916 64 bit (AMD64)]\n",
      "scipy: 1.5.0\n",
      "numpy: 1.18.5\n",
      "matplotlib: 3.2.2\n",
      "pandas: 1.0.5\n",
      "sklearn: 0.23.1\n"
     ]
    }
   ],
   "source": [
    "# Python version\n",
    "import sys\n",
    "print('Python: {}'.format(sys.version))\n",
    "# scipy\n",
    "import scipy\n",
    "print('scipy: {}'.format(scipy.__version__))\n",
    "# numpy\n",
    "import numpy\n",
    "print('numpy: {}'.format(numpy.__version__))\n",
    "# matplotlib\n",
    "import matplotlib\n",
    "print('matplotlib: {}'.format(matplotlib.__version__))\n",
    "# pandas\n",
    "import pandas\n",
    "print('pandas: {}'.format(pandas.__version__))\n",
    "# scikit-learn\n",
    "import sklearn\n",
    "print('sklearn: {}'.format(sklearn.__version__))"
   ]
  },
  {
   "cell_type": "code",
   "execution_count": 2,
   "metadata": {},
   "outputs": [],
   "source": [
    "#load liabaries \n",
    "from pandas import read_csv\n",
    "from pandas.plotting import scatter_matrix\n",
    "from matplotlib import pyplot\n",
    "from sklearn.model_selection import train_test_split\n",
    "from sklearn.model_selection import cross_val_score\n",
    "from sklearn.model_selection import StratifiedKFold\n",
    "from sklearn.metrics import classification_report\n",
    "from sklearn.metrics import confusion_matrix\n",
    "from sklearn.metrics import accuracy_score\n",
    "from sklearn.linear_model import LogisticRegression\n",
    "from sklearn.tree import DecisionTreeClassifier\n",
    "from sklearn.neighbors import KNeighborsClassifier\n",
    "from sklearn.discriminant_analysis import LinearDiscriminantAnalysis\n",
    "from sklearn.naive_bayes import GaussianNB\n",
    "from sklearn.svm import SVC"
   ]
  },
  {
   "cell_type": "code",
   "execution_count": 12,
   "metadata": {},
   "outputs": [
    {
     "data": {
      "text/html": [
       "<div>\n",
       "<style scoped>\n",
       "    .dataframe tbody tr th:only-of-type {\n",
       "        vertical-align: middle;\n",
       "    }\n",
       "\n",
       "    .dataframe tbody tr th {\n",
       "        vertical-align: top;\n",
       "    }\n",
       "\n",
       "    .dataframe thead th {\n",
       "        text-align: right;\n",
       "    }\n",
       "</style>\n",
       "<table border=\"1\" class=\"dataframe\">\n",
       "  <thead>\n",
       "    <tr style=\"text-align: right;\">\n",
       "      <th></th>\n",
       "      <th>Fname</th>\n",
       "      <th>Lname</th>\n",
       "      <th>Gender</th>\n",
       "      <th>Hours Worked</th>\n",
       "      <th>SalesTraining</th>\n",
       "      <th>Years Experience</th>\n",
       "      <th>Cars Sold</th>\n",
       "    </tr>\n",
       "  </thead>\n",
       "  <tbody>\n",
       "    <tr>\n",
       "      <th>0</th>\n",
       "      <td>Jada</td>\n",
       "      <td>Walters</td>\n",
       "      <td>F</td>\n",
       "      <td>39</td>\n",
       "      <td>N</td>\n",
       "      <td>3</td>\n",
       "      <td>2</td>\n",
       "    </tr>\n",
       "    <tr>\n",
       "      <th>1</th>\n",
       "      <td>Nicole</td>\n",
       "      <td>Henderson</td>\n",
       "      <td>F</td>\n",
       "      <td>46</td>\n",
       "      <td>N</td>\n",
       "      <td>3</td>\n",
       "      <td>6</td>\n",
       "    </tr>\n",
       "    <tr>\n",
       "      <th>2</th>\n",
       "      <td>Tanya</td>\n",
       "      <td>Moore</td>\n",
       "      <td>F</td>\n",
       "      <td>42</td>\n",
       "      <td>Y</td>\n",
       "      <td>4</td>\n",
       "      <td>6</td>\n",
       "    </tr>\n",
       "    <tr>\n",
       "      <th>3</th>\n",
       "      <td>Ronelle</td>\n",
       "      <td>Jackson</td>\n",
       "      <td>F</td>\n",
       "      <td>38</td>\n",
       "      <td>Y</td>\n",
       "      <td>5</td>\n",
       "      <td>3</td>\n",
       "    </tr>\n",
       "    <tr>\n",
       "      <th>4</th>\n",
       "      <td>Brad</td>\n",
       "      <td>Sears</td>\n",
       "      <td>M</td>\n",
       "      <td>33</td>\n",
       "      <td>N</td>\n",
       "      <td>4</td>\n",
       "      <td>2</td>\n",
       "    </tr>\n",
       "    <tr>\n",
       "      <th>5</th>\n",
       "      <td>Jackie</td>\n",
       "      <td>Rogers</td>\n",
       "      <td>F</td>\n",
       "      <td>45</td>\n",
       "      <td>Y</td>\n",
       "      <td>5</td>\n",
       "      <td>3</td>\n",
       "    </tr>\n",
       "    <tr>\n",
       "      <th>6</th>\n",
       "      <td>Oliver</td>\n",
       "      <td>Vaughn</td>\n",
       "      <td>M</td>\n",
       "      <td>46</td>\n",
       "      <td>N</td>\n",
       "      <td>5</td>\n",
       "      <td>3</td>\n",
       "    </tr>\n",
       "    <tr>\n",
       "      <th>7</th>\n",
       "      <td>Carla</td>\n",
       "      <td>Sapp</td>\n",
       "      <td>F</td>\n",
       "      <td>39</td>\n",
       "      <td>Y</td>\n",
       "      <td>3</td>\n",
       "      <td>6</td>\n",
       "    </tr>\n",
       "    <tr>\n",
       "      <th>8</th>\n",
       "      <td>Karen</td>\n",
       "      <td>Moore</td>\n",
       "      <td>F</td>\n",
       "      <td>33</td>\n",
       "      <td>Y</td>\n",
       "      <td>2</td>\n",
       "      <td>5</td>\n",
       "    </tr>\n",
       "    <tr>\n",
       "      <th>9</th>\n",
       "      <td>Roger</td>\n",
       "      <td>Kane</td>\n",
       "      <td>M</td>\n",
       "      <td>38</td>\n",
       "      <td>N</td>\n",
       "      <td>4</td>\n",
       "      <td>5</td>\n",
       "    </tr>\n",
       "    <tr>\n",
       "      <th>10</th>\n",
       "      <td>Jackie</td>\n",
       "      <td>Jackson</td>\n",
       "      <td>F</td>\n",
       "      <td>32</td>\n",
       "      <td>Y</td>\n",
       "      <td>1</td>\n",
       "      <td>3</td>\n",
       "    </tr>\n",
       "    <tr>\n",
       "      <th>11</th>\n",
       "      <td>Sam</td>\n",
       "      <td>Isaacson</td>\n",
       "      <td>M</td>\n",
       "      <td>39</td>\n",
       "      <td>N</td>\n",
       "      <td>4</td>\n",
       "      <td>6</td>\n",
       "    </tr>\n",
       "    <tr>\n",
       "      <th>12</th>\n",
       "      <td>Aaron</td>\n",
       "      <td>Isaacson</td>\n",
       "      <td>M</td>\n",
       "      <td>46</td>\n",
       "      <td>Y</td>\n",
       "      <td>5</td>\n",
       "      <td>5</td>\n",
       "    </tr>\n",
       "    <tr>\n",
       "      <th>13</th>\n",
       "      <td>David</td>\n",
       "      <td>Johnson</td>\n",
       "      <td>M</td>\n",
       "      <td>23</td>\n",
       "      <td>Y</td>\n",
       "      <td>4</td>\n",
       "      <td>6</td>\n",
       "    </tr>\n",
       "    <tr>\n",
       "      <th>14</th>\n",
       "      <td>Sam</td>\n",
       "      <td>Harrison</td>\n",
       "      <td>M</td>\n",
       "      <td>43</td>\n",
       "      <td>N</td>\n",
       "      <td>3</td>\n",
       "      <td>4</td>\n",
       "    </tr>\n",
       "    <tr>\n",
       "      <th>15</th>\n",
       "      <td>Mary</td>\n",
       "      <td>Patterson</td>\n",
       "      <td>F</td>\n",
       "      <td>43</td>\n",
       "      <td>N</td>\n",
       "      <td>1</td>\n",
       "      <td>6</td>\n",
       "    </tr>\n",
       "    <tr>\n",
       "      <th>16</th>\n",
       "      <td>Frank</td>\n",
       "      <td>Baker</td>\n",
       "      <td>M</td>\n",
       "      <td>26</td>\n",
       "      <td>N</td>\n",
       "      <td>3</td>\n",
       "      <td>5</td>\n",
       "    </tr>\n",
       "    <tr>\n",
       "      <th>17</th>\n",
       "      <td>Tanya</td>\n",
       "      <td>Adams</td>\n",
       "      <td>F</td>\n",
       "      <td>28</td>\n",
       "      <td>Y</td>\n",
       "      <td>1</td>\n",
       "      <td>2</td>\n",
       "    </tr>\n",
       "    <tr>\n",
       "      <th>18</th>\n",
       "      <td>Tanya</td>\n",
       "      <td>Henderson</td>\n",
       "      <td>F</td>\n",
       "      <td>24</td>\n",
       "      <td>Y</td>\n",
       "      <td>1</td>\n",
       "      <td>5</td>\n",
       "    </tr>\n",
       "    <tr>\n",
       "      <th>19</th>\n",
       "      <td>india</td>\n",
       "      <td>Withers</td>\n",
       "      <td>F</td>\n",
       "      <td>35</td>\n",
       "      <td>Y</td>\n",
       "      <td>4</td>\n",
       "      <td>5</td>\n",
       "    </tr>\n",
       "  </tbody>\n",
       "</table>\n",
       "</div>"
      ],
      "text/plain": [
       "      Fname      Lname Gender  Hours Worked SalesTraining  Years Experience  \\\n",
       "0      Jada   Walters       F            39             N                 3   \n",
       "1    Nicole  Henderson      F            46             N                 3   \n",
       "2     Tanya      Moore      F            42             Y                 4   \n",
       "3   Ronelle    Jackson      F            38             Y                 5   \n",
       "4      Brad      Sears      M            33             N                 4   \n",
       "5    Jackie     Rogers      F            45             Y                 5   \n",
       "6    Oliver     Vaughn      M            46             N                 5   \n",
       "7     Carla       Sapp      F            39             Y                 3   \n",
       "8     Karen      Moore      F            33             Y                 2   \n",
       "9     Roger       Kane      M            38             N                 4   \n",
       "10   Jackie    Jackson      F            32             Y                 1   \n",
       "11      Sam   Isaacson      M            39             N                 4   \n",
       "12    Aaron   Isaacson      M            46             Y                 5   \n",
       "13    David    Johnson      M            23             Y                 4   \n",
       "14      Sam   Harrison      M            43             N                 3   \n",
       "15     Mary  Patterson      F            43             N                 1   \n",
       "16    Frank      Baker      M            26             N                 3   \n",
       "17    Tanya      Adams      F            28             Y                 1   \n",
       "18    Tanya  Henderson      F            24             Y                 1   \n",
       "19    india    Withers      F            35             Y                 4   \n",
       "\n",
       "    Cars Sold  \n",
       "0           2  \n",
       "1           6  \n",
       "2           6  \n",
       "3           3  \n",
       "4           2  \n",
       "5           3  \n",
       "6           3  \n",
       "7           6  \n",
       "8           5  \n",
       "9           5  \n",
       "10          3  \n",
       "11          6  \n",
       "12          5  \n",
       "13          6  \n",
       "14          4  \n",
       "15          6  \n",
       "16          5  \n",
       "17          2  \n",
       "18          5  \n",
       "19          5  "
      ]
     },
     "execution_count": 12,
     "metadata": {},
     "output_type": "execute_result"
    }
   ],
   "source": [
    "#read the data in python jupiter notebook\n",
    "import matplotlib.pyplot as plt\n",
    "import pandas as pd\n",
    "%matplotlib inline\n",
    "Location = r'C:/Users/sadia/Downloads/axisdata.csv'\n",
    "\n",
    "#read my data \n",
    "df = pd.read_csv(Location)\n",
    "df.head(20)"
   ]
  },
  {
   "cell_type": "code",
   "execution_count": 13,
   "metadata": {},
   "outputs": [
    {
     "name": "stdout",
     "output_type": "stream",
     "text": [
      "(999, 7)\n"
     ]
    }
   ],
   "source": [
    "# shape\n",
    "print(df.shape)"
   ]
  },
  {
   "cell_type": "code",
   "execution_count": 8,
   "metadata": {},
   "outputs": [
    {
     "name": "stdout",
     "output_type": "stream",
     "text": [
      "      Fname      Lname Gender  Hours Worked SalesTraining  Years Experience  \\\n",
      "0      Jada   Walters       F            39             N                 3   \n",
      "1    Nicole  Henderson      F            46             N                 3   \n",
      "2     Tanya      Moore      F            42             Y                 4   \n",
      "3   Ronelle    Jackson      F            38             Y                 5   \n",
      "4      Brad      Sears      M            33             N                 4   \n",
      "5    Jackie     Rogers      F            45             Y                 5   \n",
      "6    Oliver     Vaughn      M            46             N                 5   \n",
      "7     Carla       Sapp      F            39             Y                 3   \n",
      "8     Karen      Moore      F            33             Y                 2   \n",
      "9     Roger       Kane      M            38             N                 4   \n",
      "10   Jackie    Jackson      F            32             Y                 1   \n",
      "11      Sam   Isaacson      M            39             N                 4   \n",
      "12    Aaron   Isaacson      M            46             Y                 5   \n",
      "13    David    Johnson      M            23             Y                 4   \n",
      "14      Sam   Harrison      M            43             N                 3   \n",
      "15     Mary  Patterson      F            43             N                 1   \n",
      "16    Frank      Baker      M            26             N                 3   \n",
      "17    Tanya      Adams      F            28             Y                 1   \n",
      "18    Tanya  Henderson      F            24             Y                 1   \n",
      "19    india    Withers      F            35             Y                 4   \n",
      "\n",
      "    Cars Sold  \n",
      "0           2  \n",
      "1           6  \n",
      "2           6  \n",
      "3           3  \n",
      "4           2  \n",
      "5           3  \n",
      "6           3  \n",
      "7           6  \n",
      "8           5  \n",
      "9           5  \n",
      "10          3  \n",
      "11          6  \n",
      "12          5  \n",
      "13          6  \n",
      "14          4  \n",
      "15          6  \n",
      "16          5  \n",
      "17          2  \n",
      "18          5  \n",
      "19          5  \n",
      "       Hours Worked  Years Experience   Cars Sold\n",
      "count    999.000000        999.000000  999.000000\n",
      "mean      33.727728          3.026026    3.922923\n",
      "std        8.223454          1.394709    1.527000\n",
      "min       20.000000          1.000000    1.000000\n",
      "25%       27.000000          2.000000    3.000000\n",
      "50%       34.000000          3.000000    4.000000\n",
      "75%       41.000000          4.000000    5.000000\n",
      "max       48.000000          5.000000    7.000000\n"
     ]
    }
   ],
   "source": [
    "#Head\n",
    "print(df.head(20))\n",
    "\n",
    "# descriptions\n",
    "print(df.describe())"
   ]
  },
  {
   "cell_type": "code",
   "execution_count": 15,
   "metadata": {},
   "outputs": [
    {
     "name": "stdout",
     "output_type": "stream",
     "text": [
      "(999, 7)\n",
      "      Fname      Lname Gender  Hours Worked SalesTraining  Years Experience  \\\n",
      "0      Jada   Walters       F            39             N                 3   \n",
      "1    Nicole  Henderson      F            46             N                 3   \n",
      "2     Tanya      Moore      F            42             Y                 4   \n",
      "3   Ronelle    Jackson      F            38             Y                 5   \n",
      "4      Brad      Sears      M            33             N                 4   \n",
      "5    Jackie     Rogers      F            45             Y                 5   \n",
      "6    Oliver     Vaughn      M            46             N                 5   \n",
      "7     Carla       Sapp      F            39             Y                 3   \n",
      "8     Karen      Moore      F            33             Y                 2   \n",
      "9     Roger       Kane      M            38             N                 4   \n",
      "10   Jackie    Jackson      F            32             Y                 1   \n",
      "11      Sam   Isaacson      M            39             N                 4   \n",
      "12    Aaron   Isaacson      M            46             Y                 5   \n",
      "13    David    Johnson      M            23             Y                 4   \n",
      "14      Sam   Harrison      M            43             N                 3   \n",
      "15     Mary  Patterson      F            43             N                 1   \n",
      "16    Frank      Baker      M            26             N                 3   \n",
      "17    Tanya      Adams      F            28             Y                 1   \n",
      "18    Tanya  Henderson      F            24             Y                 1   \n",
      "19    india    Withers      F            35             Y                 4   \n",
      "\n",
      "    Cars Sold  \n",
      "0           2  \n",
      "1           6  \n",
      "2           6  \n",
      "3           3  \n",
      "4           2  \n",
      "5           3  \n",
      "6           3  \n",
      "7           6  \n",
      "8           5  \n",
      "9           5  \n",
      "10          3  \n",
      "11          6  \n",
      "12          5  \n",
      "13          6  \n",
      "14          4  \n",
      "15          6  \n",
      "16          5  \n",
      "17          2  \n",
      "18          5  \n",
      "19          5  \n",
      "       Hours Worked  Years Experience   Cars Sold\n",
      "count    999.000000        999.000000  999.000000\n",
      "mean      33.727728          3.026026    3.922923\n",
      "std        8.223454          1.394709    1.527000\n",
      "min       20.000000          1.000000    1.000000\n",
      "25%       27.000000          2.000000    3.000000\n",
      "50%       34.000000          3.000000    4.000000\n",
      "75%       41.000000          4.000000    5.000000\n",
      "max       48.000000          5.000000    7.000000\n",
      "Cars Sold\n",
      "1     44\n",
      "2    172\n",
      "3    194\n",
      "4    202\n",
      "5    206\n",
      "6    156\n",
      "7     25\n",
      "dtype: int64\n"
     ]
    }
   ],
   "source": [
    "# summarize the data\n",
    "from pandas import read_csv\n",
    "# Load dataset\n",
    "Location = r'C:/Users/sadia/Downloads/axisdata.csv'\n",
    "df = pd.read_csv(Location)\n",
    "df.head(20)\n",
    "# shape\n",
    "print(df.shape)\n",
    "# head\n",
    "print(df.head(20))\n",
    "# descriptions\n",
    "print(df.describe())\n",
    "# cars sold distribution\n",
    "print(df.groupby('Cars Sold').size())"
   ]
  },
  {
   "cell_type": "code",
   "execution_count": 9,
   "metadata": {},
   "outputs": [
    {
     "data": {
      "image/png": "[encoded data removed]",
      "text/plain": [
       "<Figure size 432x288 with 4 Axes>"
      ]
     },
     "metadata": {
      "needs_background": "light"
     },
     "output_type": "display_data"
    }
   ],
   "source": [
    "#histograms\n",
    "df.hist()\n",
    "pyplot.show()"
   ]
  },
  {
   "cell_type": "code",
   "execution_count": 10,
   "metadata": {},
   "outputs": [
    {
     "data": {
      "image/png": "[encoded data removed]",
      "text/plain": [
       "<Figure size 432x288 with 9 Axes>"
      ]
     },
     "metadata": {
      "needs_background": "light"
     },
     "output_type": "display_data"
    }
   ],
   "source": [
    "#scatter plot matrix\n",
    "scatter_matrix(df)\n",
    "pyplot.show()"
   ]
  },
  {
   "cell_type": "code",
   "execution_count": 11,
   "metadata": {},
   "outputs": [
    {
     "data": {
      "image/png": "[encoded data removed]",
      "text/plain": [
       "<Figure size 432x288 with 4 Axes>"
      ]
     },
     "metadata": {
      "needs_background": "light"
     },
     "output_type": "display_data"
    }
   ],
   "source": [
    "# box and whisker plots\n",
    "df.plot(kind='box', subplots=True, layout=(2,2), sharex=False, sharey=False)\n",
    "pyplot.show()"
   ]
  },
  {
   "cell_type": "code",
   "execution_count": 14,
   "metadata": {
    "scrolled": true
   },
   "outputs": [
    {
     "data": {
      "image/png": "[encoded data removed]",
      "text/plain": [
       "<Figure size 432x288 with 4 Axes>"
      ]
     },
     "metadata": {
      "needs_background": "light"
     },
     "output_type": "display_data"
    },
    {
     "data": {
      "image/png": "[encoded data removed]",
      "text/plain": [
       "<Figure size 432x288 with 4 Axes>"
      ]
     },
     "metadata": {
      "needs_background": "light"
     },
     "output_type": "display_data"
    },
    {
     "data": {
      "image/png": "[encoded data removed]",
      "text/plain": [
       "<Figure size 432x288 with 9 Axes>"
      ]
     },
     "metadata": {
      "needs_background": "light"
     },
     "output_type": "display_data"
    }
   ],
   "source": [
    "# visualize the data\n",
    "from pandas import read_csv\n",
    "from pandas.plotting import scatter_matrix\n",
    "from matplotlib import pyplot\n",
    "# Load dataset\n",
    "%matplotlib inline\n",
    "Location = r'C:/Users/sadia/Downloads/axisdata.csv'\n",
    "df = pd.read_csv(Location)\n",
    "df.head(20)\n",
    "# box and whisker plots\n",
    "df.plot(kind='box', subplots=True, layout=(2,2), sharex=False, sharey=False)\n",
    "pyplot.show()\n",
    "# histograms\n",
    "df.hist()\n",
    "pyplot.show()\n",
    "# scatter plot matrix\n",
    "scatter_matrix(df)\n",
    "pyplot.show()"
   ]
  },
  {
   "cell_type": "code",
   "execution_count": 50,
   "metadata": {},
   "outputs": [],
   "source": [
    "import pandas"
   ]
  },
  {
   "cell_type": "code",
   "execution_count": 51,
   "metadata": {},
   "outputs": [],
   "source": [
    "from sklearn import linear_model"
   ]
  },
  {
   "cell_type": "code",
   "execution_count": 53,
   "metadata": {},
   "outputs": [],
   "source": [
    "#Read the file \n",
    "df = pandas.read_csv(\"C:/Users/sadia/Downloads/axisdata.csv\")"
   ]
  },
  {
   "cell_type": "code",
   "execution_count": 55,
   "metadata": {},
   "outputs": [],
   "source": [
    "#make a list of the independendent vaue and call this variable X\n",
    "#put the dpendent values in variable called y\n",
    "#selecting the target & feature\n",
    "x=df[['Hours Worked','Years Experience']] \n",
    "y=df['Cars Sold']\n"
   ]
  },
  {
   "cell_type": "code",
   "execution_count": 56,
   "metadata": {},
   "outputs": [
    {
     "data": {
      "text/plain": [
       "LinearRegression()"
      ]
     },
     "execution_count": 56,
     "metadata": {},
     "output_type": "execute_result"
    }
   ],
   "source": [
    "#methond to create a linear regression object\n",
    "regr= linear_model.LinearRegression()\n",
    "regr.fit(x,y)"
   ]
  },
  {
   "cell_type": "code",
   "execution_count": 59,
   "metadata": {},
   "outputs": [],
   "source": [
    "#predit how many cars sold where hours worked is 38 and has 4 years of experence\n",
    "predictedCarsSold = regr.predict([[39,4]])"
   ]
  },
  {
   "cell_type": "code",
   "execution_count": 58,
   "metadata": {},
   "outputs": [
    {
     "name": "stdout",
     "output_type": "stream",
     "text": [
      "[4.22632039]\n"
     ]
    }
   ],
   "source": [
    "print(predictedCarsSold)"
   ]
  },
  {
   "cell_type": "code",
   "execution_count": 60,
   "metadata": {},
   "outputs": [
    {
     "name": "stdout",
     "output_type": "stream",
     "text": [
      "[0.04632223 0.06075527]\n"
     ]
    }
   ],
   "source": [
    "#The coefficient is a factor that describes the relitionship with an unknown variable\n",
    "print(regr.coef_)"
   ]
  },
  {
   "cell_type": "code",
   "execution_count": 61,
   "metadata": {},
   "outputs": [],
   "source": [
    "import pandas"
   ]
  },
  {
   "cell_type": "code",
   "execution_count": 62,
   "metadata": {},
   "outputs": [],
   "source": [
    "from sklearn import linear_model"
   ]
  },
  {
   "cell_type": "code",
   "execution_count": 63,
   "metadata": {},
   "outputs": [],
   "source": [
    "from sklearn.preprocessing import StandardScaler"
   ]
  },
  {
   "cell_type": "code",
   "execution_count": 64,
   "metadata": {},
   "outputs": [],
   "source": [
    "#Python sklearn module has a method called StandardScaler() which returns a Scaler object with methods for transforming data sets.\n",
    "#When the data set is scaled, you will have to use the scale when you predict values:\n",
    "scale = StandardScaler()"
   ]
  },
  {
   "cell_type": "code",
   "execution_count": 65,
   "metadata": {},
   "outputs": [],
   "source": [
    "#Read the file \n",
    "df = pandas.read_csv(\"C:/Users/sadia/Downloads/axisdata.csv\")"
   ]
  },
  {
   "cell_type": "code",
   "execution_count": 66,
   "metadata": {},
   "outputs": [],
   "source": [
    "X= df[['Hours Worked','Years Experience' ]]"
   ]
  },
  {
   "cell_type": "code",
   "execution_count": 67,
   "metadata": {},
   "outputs": [
    {
     "name": "stdout",
     "output_type": "stream",
     "text": [
      "[[ 0.6414474  -0.01866989]\n",
      " [ 1.4930976  -0.01866989]\n",
      " [ 1.00644034  0.69868458]\n",
      " ...\n",
      " [ 0.03312582  0.69868458]\n",
      " [-0.57519576  1.41603905]\n",
      " [-1.6701746  -0.01866989]]\n"
     ]
    }
   ],
   "source": [
    "#Notes that the first two values 0.64 and -0.018, which corresponds to our calculation\n",
    "scaledX=scale.fit_transform(X)\n",
    "print(scaledX)"
   ]
  },
  {
   "cell_type": "code",
   "execution_count": 68,
   "metadata": {},
   "outputs": [],
   "source": [
    "x=df[['Hours Worked','Years Experience']] \n",
    "y=df['Cars Sold']\n"
   ]
  },
  {
   "cell_type": "code",
   "execution_count": 70,
   "metadata": {},
   "outputs": [],
   "source": [
    "scaledX=scale.fit_transform(X)"
   ]
  },
  {
   "cell_type": "code",
   "execution_count": 71,
   "metadata": {},
   "outputs": [
    {
     "data": {
      "text/plain": [
       "LinearRegression()"
      ]
     },
     "execution_count": 71,
     "metadata": {},
     "output_type": "execute_result"
    }
   ],
   "source": [
    "regr= linear_model.LinearRegression()\n",
    "regr.fit(scaledX,y)"
   ]
  },
  {
   "cell_type": "code",
   "execution_count": 72,
   "metadata": {},
   "outputs": [],
   "source": [
    "#34 hours worked with 2.5 years experience\n",
    "scaled = scale.transform([[34,2.5]])"
   ]
  },
  {
   "cell_type": "code",
   "execution_count": 73,
   "metadata": {},
   "outputs": [
    {
     "name": "stdout",
     "output_type": "stream",
     "text": [
      "[3.90357633]\n"
     ]
    }
   ],
   "source": [
    "predictedCarsSold = regr.predict([scaled[0]])\n",
    "print(predictedCarsSold)"
   ]
  },
  {
   "cell_type": "code",
   "execution_count": 112,
   "metadata": {},
   "outputs": [],
   "source": [
    "#load the modules \n",
    "import pandas\n",
    "from sklearn import tree\n",
    "#make sure t install this on anaconda prompt first or it wount work\n",
    "import pydotplus\n",
    "from sklearn.tree import DecisionTreeClassifier\n",
    "import matplotlib.pyplot as plt\n",
    "import matplotlib.image as pltimg"
   ]
  },
  {
   "cell_type": "code",
   "execution_count": 113,
   "metadata": {},
   "outputs": [],
   "source": [
    "#read the dataset \n",
    "df = pandas.read_csv(\"C:/Users/sadia/Downloads/axisdata.csv\")"
   ]
  },
  {
   "cell_type": "code",
   "execution_count": 114,
   "metadata": {},
   "outputs": [
    {
     "name": "stdout",
     "output_type": "stream",
     "text": [
      "        Fname      Lname Gender  Hours Worked SalesTraining  Years Experience  \\\n",
      "0        Jada   Walters       F            39             N                 3   \n",
      "1      Nicole  Henderson      F            46             N                 3   \n",
      "2       Tanya      Moore      F            42             Y                 4   \n",
      "3     Ronelle    Jackson      F            38             Y                 5   \n",
      "4        Brad      Sears      M            33             N                 4   \n",
      "..        ...        ...    ...           ...           ...               ...   \n",
      "994    Victor       Kane      M            22             Y                 5   \n",
      "995   Charles     Turner      M            45             N                 1   \n",
      "996    August   Franklin      F            34             Y                 4   \n",
      "997  Victoria     Rogers      F            29             N                 5   \n",
      "998      Mike    Gerardo      M            20             N                 3   \n",
      "\n",
      "     Cars Sold  \n",
      "0            2  \n",
      "1            6  \n",
      "2            6  \n",
      "3            3  \n",
      "4            2  \n",
      "..         ...  \n",
      "994          4  \n",
      "995          4  \n",
      "996          3  \n",
      "997          1  \n",
      "998          3  \n",
      "\n",
      "[999 rows x 7 columns]\n"
     ]
    }
   ],
   "source": [
    "print(df)"
   ]
  },
  {
   "cell_type": "code",
   "execution_count": 115,
   "metadata": {},
   "outputs": [
    {
     "name": "stdout",
     "output_type": "stream",
     "text": [
      "        Fname      Lname  Gender  Hours Worked  SalesTraining  \\\n",
      "0        Jada   Walters        1            39              0   \n",
      "1      Nicole  Henderson       1            46              0   \n",
      "2       Tanya      Moore       1            42              1   \n",
      "3     Ronelle    Jackson       1            38              1   \n",
      "4        Brad      Sears       2            33              0   \n",
      "..        ...        ...     ...           ...            ...   \n",
      "994    Victor       Kane       2            22              1   \n",
      "995   Charles     Turner       2            45              0   \n",
      "996    August   Franklin       1            34              1   \n",
      "997  Victoria     Rogers       1            29              0   \n",
      "998      Mike    Gerardo       2            20              0   \n",
      "\n",
      "     Years Experience  Cars Sold  \n",
      "0                   3          2  \n",
      "1                   3          6  \n",
      "2                   4          6  \n",
      "3                   5          3  \n",
      "4                   4          2  \n",
      "..                ...        ...  \n",
      "994                 5          4  \n",
      "995                 1          4  \n",
      "996                 4          3  \n",
      "997                 5          1  \n",
      "998                 3          3  \n",
      "\n",
      "[999 rows x 7 columns]\n"
     ]
    }
   ],
   "source": [
    "# to make decsision tree all data has to be numerical\n",
    "#feam to one and male to 2\n",
    "d = {'F':1, 'M':2}\n",
    "df ['Gender'] = df['Gender'].map(d)\n",
    "\n",
    "#make yes as 1 and No as 0\n",
    "d = {'Y':1,'N':0}\n",
    "df['SalesTraining'] = df['SalesTraining'].map(d)\n",
    "print(df)"
   ]
  },
  {
   "cell_type": "code",
   "execution_count": 96,
   "metadata": {},
   "outputs": [],
   "source": [
    "# Split-out validation datasetarray = dataset.values\n",
    "X = array[:,0:4]\n",
    "y = array[:,4]\n",
    "X_train, X_validation, Y_train, Y_validation = train_test_split(X, y, test_size=0.20, random_state=1)"
   ]
  }
 ],
 "metadata": {
  "kernelspec": {
   "display_name": "Python 3",
   "language": "python",
   "name": "python3"
  },
  "language_info": {
   "codemirror_mode": {
    "name": "ipython",
    "version": 3
   },
   "file_extension": ".py",
   "mimetype": "text/x-python",
   "name": "python",
   "nbconvert_exporter": "python",
   "pygments_lexer": "ipython3",
   "version": "3.8.3"
  }
 },
 "nbformat": 4,
 "nbformat_minor": 4
}
